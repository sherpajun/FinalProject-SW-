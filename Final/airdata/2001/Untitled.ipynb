{
 "cells": [
  {
   "cell_type": "code",
   "execution_count": 3,
   "id": "d4418d67-2f7d-423d-b78e-c7bd76d51371",
   "metadata": {},
   "outputs": [],
   "source": [
    "import pandas as pd"
   ]
  },
  {
   "cell_type": "code",
   "execution_count": 2,
   "id": "154a2504-f19a-4f84-ba86-c83285d138cc",
   "metadata": {},
   "outputs": [],
   "source": [
    "a=pd.read_excel('2001년01분기.xlsx')\n",
    "b=pd.read_excel('2001년02분기.xlsx')\n",
    "c=pd.read_excel('2001년03분기.xlsx')\n",
    "d=pd.read_excel('2001년04분기.xlsx')"
   ]
  },
  {
   "cell_type": "code",
   "execution_count": 4,
   "id": "f4e54d55-e474-436f-9525-2a77abebdc44",
   "metadata": {},
   "outputs": [],
   "source": [
    "a = a[a['지역'].str.contains('부산')]\n",
    "b = b[b['지역'].str.contains('부산')]\n",
    "c = c[c['지역'].str.contains('부산')]\n",
    "d = d[d['지역'].str.contains('부산')]"
   ]
  },
  {
   "cell_type": "code",
   "execution_count": 5,
   "id": "1cad5aa1-3692-401c-9f8a-e657c3508303",
   "metadata": {},
   "outputs": [
    {
     "data": {
      "text/html": [
       "<div>\n",
       "<style scoped>\n",
       "    .dataframe tbody tr th:only-of-type {\n",
       "        vertical-align: middle;\n",
       "    }\n",
       "\n",
       "    .dataframe tbody tr th {\n",
       "        vertical-align: top;\n",
       "    }\n",
       "\n",
       "    .dataframe thead th {\n",
       "        text-align: right;\n",
       "    }\n",
       "</style>\n",
       "<table border=\"1\" class=\"dataframe\">\n",
       "  <thead>\n",
       "    <tr style=\"text-align: right;\">\n",
       "      <th></th>\n",
       "      <th>지역</th>\n",
       "      <th>측정소명</th>\n",
       "      <th>측정소코드</th>\n",
       "      <th>측정일시</th>\n",
       "      <th>SO2</th>\n",
       "      <th>CO</th>\n",
       "      <th>O3</th>\n",
       "      <th>NO2</th>\n",
       "      <th>PM10</th>\n",
       "      <th>주소</th>\n",
       "    </tr>\n",
       "  </thead>\n",
       "  <tbody>\n",
       "    <tr>\n",
       "      <th>60843</th>\n",
       "      <td>부산 남구</td>\n",
       "      <td>대연동</td>\n",
       "      <td>221172</td>\n",
       "      <td>2001092304</td>\n",
       "      <td>0.003</td>\n",
       "      <td>1.0</td>\n",
       "      <td>0.028</td>\n",
       "      <td>0.013</td>\n",
       "      <td>23</td>\n",
       "      <td>부산 남구 대연동</td>\n",
       "    </tr>\n",
       "    <tr>\n",
       "      <th>78126</th>\n",
       "      <td>부산 영도구</td>\n",
       "      <td>태종대</td>\n",
       "      <td>221141</td>\n",
       "      <td>2001120807</td>\n",
       "      <td>0.014</td>\n",
       "      <td>1.2</td>\n",
       "      <td>0.009</td>\n",
       "      <td>0.017</td>\n",
       "      <td>90</td>\n",
       "      <td>부산 영도구 동삼2동</td>\n",
       "    </tr>\n",
       "    <tr>\n",
       "      <th>33025</th>\n",
       "      <td>부산 동래구</td>\n",
       "      <td>온천동</td>\n",
       "      <td>221162</td>\n",
       "      <td>2001042302</td>\n",
       "      <td>0.004</td>\n",
       "      <td>0.7</td>\n",
       "      <td>0.014</td>\n",
       "      <td>0.042</td>\n",
       "      <td>53</td>\n",
       "      <td>부산 동래구 온천2동(중앙대로)</td>\n",
       "    </tr>\n",
       "    <tr>\n",
       "      <th>82418</th>\n",
       "      <td>부산 동래구</td>\n",
       "      <td>온천동</td>\n",
       "      <td>221162</td>\n",
       "      <td>2001120303</td>\n",
       "      <td>0.011</td>\n",
       "      <td>1.4</td>\n",
       "      <td>0.013</td>\n",
       "      <td>0.035</td>\n",
       "      <td>110</td>\n",
       "      <td>부산 동래구 온천2동(중앙대로)</td>\n",
       "    </tr>\n",
       "    <tr>\n",
       "      <th>63554</th>\n",
       "      <td>부산 북구</td>\n",
       "      <td>덕천동</td>\n",
       "      <td>221182</td>\n",
       "      <td>2001071403</td>\n",
       "      <td>0.002</td>\n",
       "      <td>0.5</td>\n",
       "      <td>0.011</td>\n",
       "      <td>0.022</td>\n",
       "      <td>77</td>\n",
       "      <td>부산 북구 덕천동</td>\n",
       "    </tr>\n",
       "  </tbody>\n",
       "</table>\n",
       "</div>"
      ],
      "text/plain": [
       "           지역 측정소명   측정소코드        측정일시    SO2   CO     O3    NO2  PM10  \\\n",
       "60843   부산 남구  대연동  221172  2001092304  0.003  1.0  0.028  0.013    23   \n",
       "78126  부산 영도구  태종대  221141  2001120807  0.014  1.2  0.009  0.017    90   \n",
       "33025  부산 동래구  온천동  221162  2001042302  0.004  0.7  0.014  0.042    53   \n",
       "82418  부산 동래구  온천동  221162  2001120303  0.011  1.4  0.013  0.035   110   \n",
       "63554   부산 북구  덕천동  221182  2001071403  0.002  0.5  0.011  0.022    77   \n",
       "\n",
       "                      주소  \n",
       "60843          부산 남구 대연동  \n",
       "78126        부산 영도구 동삼2동  \n",
       "33025  부산 동래구 온천2동(중앙대로)  \n",
       "82418  부산 동래구 온천2동(중앙대로)  \n",
       "63554          부산 북구 덕천동  "
      ]
     },
     "execution_count": 5,
     "metadata": {},
     "output_type": "execute_result"
    }
   ],
   "source": [
    "df=pd.concat([a,b,c,d],ignore_index=True)\n",
    "df.sample(5)"
   ]
  },
  {
   "cell_type": "code",
   "execution_count": 16,
   "id": "7ded85c4-9923-4ca0-8dd0-7267b837b409",
   "metadata": {},
   "outputs": [],
   "source": [
    "df.to_csv('2001년_1.csv',encoding='utf-8-sig')"
   ]
  },
  {
   "cell_type": "code",
   "execution_count": null,
   "id": "7b8dc8f1-1ccb-498b-849f-65523447c349",
   "metadata": {},
   "outputs": [],
   "source": []
  }
 ],
 "metadata": {
  "interpreter": {
   "hash": "ef7f9a8012d9131766e31894c279374cc63c73121ed4db3b9e67a294a4bf0e74"
  },
  "kernelspec": {
   "display_name": "Python 3.8.8 64-bit ('base': conda)",
   "name": "python3"
  },
  "language_info": {
   "codemirror_mode": {
    "name": "ipython",
    "version": 3
   },
   "file_extension": ".py",
   "mimetype": "text/x-python",
   "name": "python",
   "nbconvert_exporter": "python",
   "pygments_lexer": "ipython3",
   "version": "3.8.8"
  }
 },
 "nbformat": 4,
 "nbformat_minor": 5
}
