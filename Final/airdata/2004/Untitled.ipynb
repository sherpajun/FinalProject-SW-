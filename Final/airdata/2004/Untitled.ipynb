{
 "cells": [
  {
   "cell_type": "code",
   "execution_count": 1,
   "id": "d4418d67-2f7d-423d-b78e-c7bd76d51371",
   "metadata": {},
   "outputs": [],
   "source": [
    "import pandas as pd"
   ]
  },
  {
   "cell_type": "code",
   "execution_count": 2,
   "id": "154a2504-f19a-4f84-ba86-c83285d138cc",
   "metadata": {},
   "outputs": [],
   "source": [
    "a=pd.read_excel('2004년01분기.xlsx')\n",
    "b=pd.read_excel('2004년02분기.xlsx')\n",
    "c=pd.read_excel('2004년03분기.xlsx')\n",
    "d=pd.read_excel('2004년04분기.xlsx')"
   ]
  },
  {
   "cell_type": "code",
   "execution_count": 3,
   "id": "f4e54d55-e474-436f-9525-2a77abebdc44",
   "metadata": {},
   "outputs": [],
   "source": [
    "a = a[a['지역'].str.contains('부산')]\n",
    "b = b[b['지역'].str.contains('부산')]\n",
    "c = c[c['지역'].str.contains('부산')]\n",
    "d = d[d['지역'].str.contains('부산')]"
   ]
  },
  {
   "cell_type": "code",
   "execution_count": 4,
   "id": "1cad5aa1-3692-401c-9f8a-e657c3508303",
   "metadata": {},
   "outputs": [
    {
     "data": {
      "text/html": [
       "<div>\n",
       "<style scoped>\n",
       "    .dataframe tbody tr th:only-of-type {\n",
       "        vertical-align: middle;\n",
       "    }\n",
       "\n",
       "    .dataframe tbody tr th {\n",
       "        vertical-align: top;\n",
       "    }\n",
       "\n",
       "    .dataframe thead th {\n",
       "        text-align: right;\n",
       "    }\n",
       "</style>\n",
       "<table border=\"1\" class=\"dataframe\">\n",
       "  <thead>\n",
       "    <tr style=\"text-align: right;\">\n",
       "      <th></th>\n",
       "      <th>지역</th>\n",
       "      <th>측정소코드</th>\n",
       "      <th>측정소명</th>\n",
       "      <th>측정일시</th>\n",
       "      <th>SO2</th>\n",
       "      <th>CO</th>\n",
       "      <th>O3</th>\n",
       "      <th>NO2</th>\n",
       "      <th>PM10</th>\n",
       "      <th>주소</th>\n",
       "      <th>DATA_TINE</th>\n",
       "    </tr>\n",
       "  </thead>\n",
       "  <tbody>\n",
       "    <tr>\n",
       "      <th>101244</th>\n",
       "      <td>부산 강서구</td>\n",
       "      <td>221212</td>\n",
       "      <td>녹산동</td>\n",
       "      <td>2004-08-21 13</td>\n",
       "      <td>0.003</td>\n",
       "      <td>0.2</td>\n",
       "      <td>0.034</td>\n",
       "      <td>0.011</td>\n",
       "      <td>44</td>\n",
       "      <td>부산 강서구 녹산산단 382로 49번길 39</td>\n",
       "      <td>NaN</td>\n",
       "    </tr>\n",
       "    <tr>\n",
       "      <th>115482</th>\n",
       "      <td>부산 영도구</td>\n",
       "      <td>221141</td>\n",
       "      <td>태종대</td>\n",
       "      <td>NaN</td>\n",
       "      <td>0.004</td>\n",
       "      <td>0.3</td>\n",
       "      <td>0.047</td>\n",
       "      <td>0.005</td>\n",
       "      <td>60</td>\n",
       "      <td>부산 영도구 전망로 24</td>\n",
       "      <td>2004-10-01 19</td>\n",
       "    </tr>\n",
       "    <tr>\n",
       "      <th>140781</th>\n",
       "      <td>부산 연제구</td>\n",
       "      <td>221221</td>\n",
       "      <td>연산동</td>\n",
       "      <td>NaN</td>\n",
       "      <td>0.002</td>\n",
       "      <td>0.5</td>\n",
       "      <td>0.010</td>\n",
       "      <td>0.031</td>\n",
       "      <td>22</td>\n",
       "      <td>부산 연제구 중앙대로 1001</td>\n",
       "      <td>2004-11-12 22</td>\n",
       "    </tr>\n",
       "    <tr>\n",
       "      <th>94347</th>\n",
       "      <td>부산 금정구</td>\n",
       "      <td>221191</td>\n",
       "      <td>청룡동</td>\n",
       "      <td>2004-08-10 04</td>\n",
       "      <td>0.006</td>\n",
       "      <td>0.6</td>\n",
       "      <td>0.029</td>\n",
       "      <td>0.016</td>\n",
       "      <td>90</td>\n",
       "      <td>부산 금정구 청룡로 25</td>\n",
       "      <td>NaN</td>\n",
       "    </tr>\n",
       "    <tr>\n",
       "      <th>42359</th>\n",
       "      <td>부산 영도구</td>\n",
       "      <td>221141</td>\n",
       "      <td>태종대</td>\n",
       "      <td>2004-06-06 24</td>\n",
       "      <td>0.011</td>\n",
       "      <td>0.7</td>\n",
       "      <td>0.042</td>\n",
       "      <td>0.030</td>\n",
       "      <td>56</td>\n",
       "      <td>부산 영도구 전망로 24</td>\n",
       "      <td>NaN</td>\n",
       "    </tr>\n",
       "  </tbody>\n",
       "</table>\n",
       "</div>"
      ],
      "text/plain": [
       "            지역   측정소코드 측정소명           측정일시    SO2   CO     O3    NO2  PM10  \\\n",
       "101244  부산 강서구  221212  녹산동  2004-08-21 13  0.003  0.2  0.034  0.011    44   \n",
       "115482  부산 영도구  221141  태종대            NaN  0.004  0.3  0.047  0.005    60   \n",
       "140781  부산 연제구  221221  연산동            NaN  0.002  0.5  0.010  0.031    22   \n",
       "94347   부산 금정구  221191  청룡동  2004-08-10 04  0.006  0.6  0.029  0.016    90   \n",
       "42359   부산 영도구  221141  태종대  2004-06-06 24  0.011  0.7  0.042  0.030    56   \n",
       "\n",
       "                              주소      DATA_TINE  \n",
       "101244  부산 강서구 녹산산단 382로 49번길 39            NaN  \n",
       "115482             부산 영도구 전망로 24  2004-10-01 19  \n",
       "140781          부산 연제구 중앙대로 1001  2004-11-12 22  \n",
       "94347              부산 금정구 청룡로 25            NaN  \n",
       "42359              부산 영도구 전망로 24            NaN  "
      ]
     },
     "execution_count": 4,
     "metadata": {},
     "output_type": "execute_result"
    }
   ],
   "source": [
    "df=pd.concat([a,b,c,d],ignore_index=True)\n",
    "df.sample(5)"
   ]
  },
  {
   "cell_type": "code",
   "execution_count": 5,
   "id": "7ded85c4-9923-4ca0-8dd0-7267b837b409",
   "metadata": {},
   "outputs": [],
   "source": [
    "df.to_csv('2004년_1.csv',encoding='utf-8-sig')"
   ]
  },
  {
   "cell_type": "code",
   "execution_count": null,
   "id": "7b8dc8f1-1ccb-498b-849f-65523447c349",
   "metadata": {},
   "outputs": [],
   "source": []
  }
 ],
 "metadata": {
  "interpreter": {
   "hash": "ef7f9a8012d9131766e31894c279374cc63c73121ed4db3b9e67a294a4bf0e74"
  },
  "kernelspec": {
   "display_name": "Python 3.8.8 64-bit ('base': conda)",
   "name": "python3"
  },
  "language_info": {
   "codemirror_mode": {
    "name": "ipython",
    "version": 3
   },
   "file_extension": ".py",
   "mimetype": "text/x-python",
   "name": "python",
   "nbconvert_exporter": "python",
   "pygments_lexer": "ipython3",
   "version": "3.8.8"
  }
 },
 "nbformat": 4,
 "nbformat_minor": 5
}
