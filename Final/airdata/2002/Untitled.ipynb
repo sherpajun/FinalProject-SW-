{
 "cells": [
  {
   "cell_type": "code",
   "execution_count": 1,
   "id": "d4418d67-2f7d-423d-b78e-c7bd76d51371",
   "metadata": {},
   "outputs": [],
   "source": [
    "import pandas as pd"
   ]
  },
  {
   "cell_type": "code",
   "execution_count": 2,
   "id": "154a2504-f19a-4f84-ba86-c83285d138cc",
   "metadata": {},
   "outputs": [],
   "source": [
    "a=pd.read_excel('2002년01분기.xlsx')\n",
    "b=pd.read_excel('2002년02분기.xlsx')\n",
    "c=pd.read_excel('2002년03분기.xlsx')\n",
    "d=pd.read_excel('2002년04분기.xlsx')"
   ]
  },
  {
   "cell_type": "code",
   "execution_count": 3,
   "id": "f4e54d55-e474-436f-9525-2a77abebdc44",
   "metadata": {},
   "outputs": [],
   "source": [
    "a = a[a['지역'].str.contains('부산')]\n",
    "b = b[b['지역'].str.contains('부산')]\n",
    "c = c[c['지역'].str.contains('부산')]\n",
    "d = d[d['지역'].str.contains('부산')]"
   ]
  },
  {
   "cell_type": "code",
   "execution_count": 4,
   "id": "1cad5aa1-3692-401c-9f8a-e657c3508303",
   "metadata": {},
   "outputs": [
    {
     "data": {
      "text/html": [
       "<div>\n",
       "<style scoped>\n",
       "    .dataframe tbody tr th:only-of-type {\n",
       "        vertical-align: middle;\n",
       "    }\n",
       "\n",
       "    .dataframe tbody tr th {\n",
       "        vertical-align: top;\n",
       "    }\n",
       "\n",
       "    .dataframe thead th {\n",
       "        text-align: right;\n",
       "    }\n",
       "</style>\n",
       "<table border=\"1\" class=\"dataframe\">\n",
       "  <thead>\n",
       "    <tr style=\"text-align: right;\">\n",
       "      <th></th>\n",
       "      <th>지역</th>\n",
       "      <th>측정소명</th>\n",
       "      <th>측정소코드</th>\n",
       "      <th>측정일시</th>\n",
       "      <th>SO2</th>\n",
       "      <th>CO</th>\n",
       "      <th>O3</th>\n",
       "      <th>NO2</th>\n",
       "      <th>PM10</th>\n",
       "      <th>주소</th>\n",
       "    </tr>\n",
       "  </thead>\n",
       "  <tbody>\n",
       "    <tr>\n",
       "      <th>3492</th>\n",
       "      <td>부산 동구</td>\n",
       "      <td>초량동</td>\n",
       "      <td>221131</td>\n",
       "      <td>2002022513</td>\n",
       "      <td>-999.000</td>\n",
       "      <td>-999.0</td>\n",
       "      <td>-999.000</td>\n",
       "      <td>-999.000</td>\n",
       "      <td>-999</td>\n",
       "      <td>부산 동구 중앙대로</td>\n",
       "    </tr>\n",
       "    <tr>\n",
       "      <th>106310</th>\n",
       "      <td>부산 사상구</td>\n",
       "      <td>학장동</td>\n",
       "      <td>221181</td>\n",
       "      <td>2002112815</td>\n",
       "      <td>0.007</td>\n",
       "      <td>0.5</td>\n",
       "      <td>0.023</td>\n",
       "      <td>0.032</td>\n",
       "      <td>73</td>\n",
       "      <td>부산 사상구 학장동</td>\n",
       "    </tr>\n",
       "    <tr>\n",
       "      <th>88135</th>\n",
       "      <td>부산 금정구</td>\n",
       "      <td>부곡동</td>\n",
       "      <td>221251</td>\n",
       "      <td>2002080708</td>\n",
       "      <td>0.001</td>\n",
       "      <td>0.7</td>\n",
       "      <td>0.007</td>\n",
       "      <td>0.024</td>\n",
       "      <td>40</td>\n",
       "      <td>부산 금정구 부곡로 156번길 7</td>\n",
       "    </tr>\n",
       "    <tr>\n",
       "      <th>40820</th>\n",
       "      <td>부산 사상구</td>\n",
       "      <td>학장동</td>\n",
       "      <td>221181</td>\n",
       "      <td>2002061121</td>\n",
       "      <td>0.007</td>\n",
       "      <td>1.1</td>\n",
       "      <td>0.030</td>\n",
       "      <td>0.043</td>\n",
       "      <td>60</td>\n",
       "      <td>부산 사상구 학장동</td>\n",
       "    </tr>\n",
       "    <tr>\n",
       "      <th>103058</th>\n",
       "      <td>부산 남구</td>\n",
       "      <td>대연동</td>\n",
       "      <td>221172</td>\n",
       "      <td>2002101603</td>\n",
       "      <td>0.013</td>\n",
       "      <td>1.0</td>\n",
       "      <td>0.001</td>\n",
       "      <td>0.040</td>\n",
       "      <td>57</td>\n",
       "      <td>부산 남구 대연동</td>\n",
       "    </tr>\n",
       "  </tbody>\n",
       "</table>\n",
       "</div>"
      ],
      "text/plain": [
       "            지역 측정소명   측정소코드        측정일시      SO2     CO       O3      NO2  \\\n",
       "3492     부산 동구  초량동  221131  2002022513 -999.000 -999.0 -999.000 -999.000   \n",
       "106310  부산 사상구  학장동  221181  2002112815    0.007    0.5    0.023    0.032   \n",
       "88135   부산 금정구  부곡동  221251  2002080708    0.001    0.7    0.007    0.024   \n",
       "40820   부산 사상구  학장동  221181  2002061121    0.007    1.1    0.030    0.043   \n",
       "103058   부산 남구  대연동  221172  2002101603    0.013    1.0    0.001    0.040   \n",
       "\n",
       "        PM10                  주소  \n",
       "3492    -999          부산 동구 중앙대로  \n",
       "106310    73          부산 사상구 학장동  \n",
       "88135     40  부산 금정구 부곡로 156번길 7  \n",
       "40820     60          부산 사상구 학장동  \n",
       "103058    57           부산 남구 대연동  "
      ]
     },
     "execution_count": 4,
     "metadata": {},
     "output_type": "execute_result"
    }
   ],
   "source": [
    "df=pd.concat([a,b,c,d],ignore_index=True)\n",
    "df.sample(5)"
   ]
  },
  {
   "cell_type": "code",
   "execution_count": 5,
   "id": "7ded85c4-9923-4ca0-8dd0-7267b837b409",
   "metadata": {},
   "outputs": [],
   "source": [
    "df.to_csv('2002년_1.csv',encoding='utf-8-sig')"
   ]
  },
  {
   "cell_type": "code",
   "execution_count": null,
   "id": "7b8dc8f1-1ccb-498b-849f-65523447c349",
   "metadata": {},
   "outputs": [],
   "source": []
  }
 ],
 "metadata": {
  "interpreter": {
   "hash": "ef7f9a8012d9131766e31894c279374cc63c73121ed4db3b9e67a294a4bf0e74"
  },
  "kernelspec": {
   "display_name": "Python 3.8.8 64-bit ('base': conda)",
   "name": "python3"
  },
  "language_info": {
   "codemirror_mode": {
    "name": "ipython",
    "version": 3
   },
   "file_extension": ".py",
   "mimetype": "text/x-python",
   "name": "python",
   "nbconvert_exporter": "python",
   "pygments_lexer": "ipython3",
   "version": "3.8.8"
  }
 },
 "nbformat": 4,
 "nbformat_minor": 5
}
